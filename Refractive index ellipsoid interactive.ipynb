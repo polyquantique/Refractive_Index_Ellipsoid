{
 "cells": [
  {
   "cell_type": "code",
   "execution_count": 52,
   "id": "874c5f90-5786-4c3a-b9ef-1f5afc5856e8",
   "metadata": {},
   "outputs": [
    {
     "data": {
      "application/vnd.jupyter.widget-view+json": {
       "model_id": "58778feb2c4148e9a17fc19a233e1b20",
       "version_major": 2,
       "version_minor": 0
      },
      "text/plain": [
       "interactive(children=(FloatSlider(value=2.8, description='no', max=3.0, min=1.0), FloatSlider(value=2.7, descr…"
      ]
     },
     "metadata": {},
     "output_type": "display_data"
    },
    {
     "data": {
      "text/plain": [
       "<function __main__.plot_ellipsoid(no_val, ne_val, x_val)>"
      ]
     },
     "execution_count": 52,
     "metadata": {},
     "output_type": "execute_result"
    }
   ],
   "source": [
    "from sympy import Symbol, Matrix\n",
    "import numpy as np\n",
    "import matplotlib.pyplot as plt\n",
    "from ipywidgets import interact, FloatSlider\n",
    "\n",
    "# Define symbols\n",
    "M12 = Symbol('(rE)')\n",
    "M11 = Symbol('(1/no^2)')\n",
    "M22 = Symbol('(1/ne^2)')\n",
    "\n",
    "# Define the matrix\n",
    "M = Matrix([[M11, M12], [M12, M22]])\n",
    "\n",
    "# Calculate eigenvalues and eigenvectors\n",
    "eigen_data = M.eigenvects()\n",
    "eigenvalues = [ev[0] for ev in eigen_data]\n",
    "eigenvectors = [ev[2][0] for ev in eigen_data]\n",
    "\n",
    "# Function to plot the ellipsoid based on user input\n",
    "def plot_ellipsoid(no_val, ne_val, x_val):\n",
    "    if x_val == 0:\n",
    "        x_val=1e-9 # avoids errors    \n",
    "    # Substitute numerical values into eigenvalues and eigenvectors\n",
    "    substitutions = {no: no_val, ne: ne_val, x: x_val}\n",
    "    evals_numeric = [e.subs(substitutions).evalf() for e in eigenvalues]\n",
    "    evecs_numeric = [vec.subs(substitutions).evalf() for vec in eigenvectors]\n",
    "\n",
    "    # Convert to numpy arrays for plotting and normalize the eigenvectors\n",
    "    evals_np = np.array([float(e) for e in evals_numeric])\n",
    "    evecs_np = np.array([[float(val) for val in vec] for vec in evecs_numeric])\n",
    "    evecs_np = np.array([vec / np.linalg.norm(vec) for vec in evecs_np])  # Normalize eigenvectors\n",
    "\n",
    "    # Generate points on a unit circle to plot the ellipsoid\n",
    "    theta = np.linspace(0, 2 * np.pi, 100)\n",
    "    x_circle = np.cos(theta)\n",
    "    y_circle = np.sin(theta)\n",
    "\n",
    "\n",
    "    # Scale the unit circle by the refractive index (eigenvalues)\n",
    "    x_ellipsoid = evals_np[0] * x_circle\n",
    "    y_ellipsoid = evals_np[1] * y_circle\n",
    "\n",
    "    # Rotate the ellipsoid using the normalized eigenvectors\n",
    "    ellipse_points = np.array([x_ellipsoid, y_ellipsoid])\n",
    "    rotated_points = evecs_np @ ellipse_points\n",
    "\n",
    "    # Plot the ellipsoid\n",
    "    fig, ax = plt.subplots(figsize=(6, 6))\n",
    "    ax.plot(rotated_points[0, :], rotated_points[1, :], color='cyan')\n",
    "    ax.axhline(0, color='black', linewidth=0.5)\n",
    "    ax.axvline(0, color='black', linewidth=0.5)\n",
    "\n",
    "    # Plot eigenvectors\n",
    "    origin = np.array([0, 0])\n",
    "    for i in range(2):\n",
    "        ax.quiver(*origin, *evecs_np[i]*evals_np[i], scale=1, scale_units='xy', color='r', angles='xy', label=f\"n{i+1}={evals_np[i]:.5f}\")\n",
    "\n",
    "    ax.set_aspect('equal', 'box')\n",
    "    ax.set_xlabel(\"$X$\")\n",
    "    ax.set_ylabel(\"$Z$\")\n",
    "    ax.legend()\n",
    "    plt.title(\"Refractive index ellipsoid\")\n",
    "    plt.grid(True)\n",
    "    plt.show()\n",
    "\n",
    "# Interactive sliders\n",
    "interact(\n",
    "    plot_ellipsoid,\n",
    "    no_val=FloatSlider(value=2.8, min=1, max=3, step=0.1, description=\"no\"),\n",
    "    ne_val=FloatSlider(value=2.7, min=1, max=3, step=0.1, description=\"ne\"),\n",
    "    x_val=FloatSlider(value=0.001, min=-0.1, max=0.1, step=0.0001, readout_format='.5f', description=\"rE\")\n",
    ")\n"
   ]
  },
  {
   "cell_type": "code",
   "execution_count": null,
   "id": "160c3a76-f6fc-4193-85bc-d5ab47225c39",
   "metadata": {},
   "outputs": [],
   "source": []
  }
 ],
 "metadata": {
  "kernelspec": {
   "display_name": "Python 3 (ipykernel)",
   "language": "python",
   "name": "python3"
  },
  "language_info": {
   "codemirror_mode": {
    "name": "ipython",
    "version": 3
   },
   "file_extension": ".py",
   "mimetype": "text/x-python",
   "name": "python",
   "nbconvert_exporter": "python",
   "pygments_lexer": "ipython3",
   "version": "3.8.1"
  }
 },
 "nbformat": 4,
 "nbformat_minor": 5
}
